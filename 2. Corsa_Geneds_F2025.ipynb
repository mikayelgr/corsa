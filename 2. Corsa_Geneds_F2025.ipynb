{
  "cells": [
    {
      "cell_type": "code",
      "execution_count": 58,
      "metadata": {
        "id": "Q8aonucxE2Tc"
      },
      "outputs": [],
      "source": [
        "GENED_COURSES_URL = \"https://gened.aua.am/courses-and-their-clusters/\""
      ]
    },
    {
      "cell_type": "code",
      "execution_count": 59,
      "metadata": {
        "colab": {
          "base_uri": "https://localhost:8080/",
          "height": 35
        },
        "id": "zLAoSf_dFBeH",
        "outputId": "d58cff7e-26de-4bb1-db66-df65bb3b5c7d"
      },
      "outputs": [
        {
          "data": {
            "text/plain": [
              "'Fetched raw HTML courses successfully'"
            ]
          },
          "execution_count": 59,
          "metadata": {},
          "output_type": "execute_result"
        }
      ],
      "source": [
        "import requests\n",
        "response = requests.get(GENED_COURSES_URL)\n",
        "if response.status_code != 200:\n",
        "  raise Exception(f\"Failed to fetch courses with status {response.status_code}: {response.content}\")\n",
        "\n",
        "raw_html = response.text\n",
        "\"Fetched raw HTML courses successfully\""
      ]
    },
    {
      "cell_type": "code",
      "execution_count": 60,
      "metadata": {
        "colab": {
          "base_uri": "https://localhost:8080/"
        },
        "id": "exd3TXw1FcM7",
        "outputId": "be79d692-512a-414b-8d8a-451c9b5a95e7"
      },
      "outputs": [
        {
          "data": {
            "text/plain": [
              "['Subject Code', 'Course Number', 'Course Title', 'Themes']"
            ]
          },
          "execution_count": 60,
          "metadata": {},
          "output_type": "execute_result"
        }
      ],
      "source": [
        "import bs4\n",
        "soup = bs4.BeautifulSoup(raw_html, \"html.parser\")\n",
        "courses_table = soup.find_all(\"table\")[1]\n",
        "if not courses_table:\n",
        "  raise Exception(f\"AUA Gened courses table is missing. Are you accessing the correct table?\")\n",
        "\n",
        "col_names_html_row = courses_table.find_all(\"tr\")[0]\n",
        "if not col_names_html_row:\n",
        "  raise Exception(\"AUA Gened coruse names row is missing. Are you accessing the correct row?\")\n",
        "\n",
        "\n",
        "col_names = [td.text for td in col_names_html_row.find_all(\"td\")]\n",
        "col_names"
      ]
    },
    {
      "cell_type": "code",
      "execution_count": 61,
      "metadata": {
        "colab": {
          "base_uri": "https://localhost:8080/"
        },
        "id": "uZC9o0huGJvQ",
        "outputId": "6193143d-fb4e-4f10-f66f-06a7630d36f3"
      },
      "outputs": [
        {
          "data": {
            "text/plain": [
              "[['BUS', '101', 'Introduction to Business', '4,5'],\n",
              " ['BUS', '105', 'Foundations of Management', '5'],\n",
              " ['BUS',\n",
              "  '109',\n",
              "  'Single-Variable Calculus for Business and Economics (Previously Business Math) (Not open to CS, DS, ES majors)\\xa0',\n",
              "  '7,8,9'],\n",
              " ['BUS',\n",
              "  '110',\n",
              "  'Applied Statistics\\xa0 (Not open to CS, DS, ES majors)',\n",
              "  '7,8,9'],\n",
              " ['BUS', '112', 'Social, Legal & Ethical Environment of Business', '3, 6']]"
            ]
          },
          "execution_count": 61,
          "metadata": {},
          "output_type": "execute_result"
        }
      ],
      "source": [
        "course_rows_html = courses_table.find_all(\"tr\")[1:]\n",
        "courses_data = []\n",
        "for course_row_html in course_rows_html:\n",
        "  course_row = [td.text for td in course_row_html.find_all(\"td\")]\n",
        "  courses_data.append(course_row)\n",
        "\n",
        "courses_data[:5]"
      ]
    },
    {
      "cell_type": "code",
      "execution_count": 62,
      "metadata": {
        "colab": {
          "base_uri": "https://localhost:8080/",
          "height": 424
        },
        "id": "Y9u03w9pHbOl",
        "outputId": "e4658b67-c463-430f-f1cd-a0c961ccc502"
      },
      "outputs": [
        {
          "data": {
            "text/html": [
              "<div>\n",
              "<style scoped>\n",
              "    .dataframe tbody tr th:only-of-type {\n",
              "        vertical-align: middle;\n",
              "    }\n",
              "\n",
              "    .dataframe tbody tr th {\n",
              "        vertical-align: top;\n",
              "    }\n",
              "\n",
              "    .dataframe thead th {\n",
              "        text-align: right;\n",
              "    }\n",
              "</style>\n",
              "<table border=\"1\" class=\"dataframe\">\n",
              "  <thead>\n",
              "    <tr style=\"text-align: right;\">\n",
              "      <th></th>\n",
              "      <th>Subject Code</th>\n",
              "      <th>Course Number</th>\n",
              "      <th>Course Title</th>\n",
              "      <th>Themes</th>\n",
              "    </tr>\n",
              "  </thead>\n",
              "  <tbody>\n",
              "    <tr>\n",
              "      <th>0</th>\n",
              "      <td>BUS</td>\n",
              "      <td>101</td>\n",
              "      <td>Introduction to Business</td>\n",
              "      <td>4,5</td>\n",
              "    </tr>\n",
              "    <tr>\n",
              "      <th>1</th>\n",
              "      <td>BUS</td>\n",
              "      <td>105</td>\n",
              "      <td>Foundations of Management</td>\n",
              "      <td>5</td>\n",
              "    </tr>\n",
              "    <tr>\n",
              "      <th>2</th>\n",
              "      <td>BUS</td>\n",
              "      <td>109</td>\n",
              "      <td>Single-Variable Calculus for Business and Econ...</td>\n",
              "      <td>7,8,9</td>\n",
              "    </tr>\n",
              "    <tr>\n",
              "      <th>3</th>\n",
              "      <td>BUS</td>\n",
              "      <td>110</td>\n",
              "      <td>Applied Statistics  (Not open to CS, DS, ES ma...</td>\n",
              "      <td>7,8,9</td>\n",
              "    </tr>\n",
              "    <tr>\n",
              "      <th>4</th>\n",
              "      <td>BUS</td>\n",
              "      <td>112</td>\n",
              "      <td>Social, Legal &amp; Ethical Environment of Business</td>\n",
              "      <td>3, 6</td>\n",
              "    </tr>\n",
              "    <tr>\n",
              "      <th>...</th>\n",
              "      <td>...</td>\n",
              "      <td>...</td>\n",
              "      <td>...</td>\n",
              "      <td>...</td>\n",
              "    </tr>\n",
              "    <tr>\n",
              "      <th>240</th>\n",
              "      <td>PH</td>\n",
              "      <td>101</td>\n",
              "      <td>Basics of Healthy Lifestyle</td>\n",
              "      <td>7</td>\n",
              "    </tr>\n",
              "    <tr>\n",
              "      <th>241</th>\n",
              "      <td>PH</td>\n",
              "      <td>102</td>\n",
              "      <td>Understanding Substance Use and Addictions (Pr...</td>\n",
              "      <td>4,6</td>\n",
              "    </tr>\n",
              "    <tr>\n",
              "      <th>242</th>\n",
              "      <td>PH</td>\n",
              "      <td>201</td>\n",
              "      <td>Global Health</td>\n",
              "      <td>4,7</td>\n",
              "    </tr>\n",
              "    <tr>\n",
              "      <th>243</th>\n",
              "      <td>PH</td>\n",
              "      <td>202</td>\n",
              "      <td>Causes, Treatment and Prevention of Cancer</td>\n",
              "      <td>4,7</td>\n",
              "    </tr>\n",
              "    <tr>\n",
              "      <th>244</th>\n",
              "      <td>PH</td>\n",
              "      <td>203</td>\n",
              "      <td>Human Nutrition and Health</td>\n",
              "      <td>6,7</td>\n",
              "    </tr>\n",
              "  </tbody>\n",
              "</table>\n",
              "<p>245 rows × 4 columns</p>\n",
              "</div>"
            ],
            "text/plain": [
              "    Subject Code Course Number  \\\n",
              "0            BUS           101   \n",
              "1            BUS           105   \n",
              "2            BUS           109   \n",
              "3            BUS           110   \n",
              "4            BUS           112   \n",
              "..           ...           ...   \n",
              "240           PH           101   \n",
              "241           PH           102   \n",
              "242           PH           201   \n",
              "243           PH           202   \n",
              "244           PH           203   \n",
              "\n",
              "                                          Course Title Themes  \n",
              "0                             Introduction to Business    4,5  \n",
              "1                            Foundations of Management      5  \n",
              "2    Single-Variable Calculus for Business and Econ...  7,8,9  \n",
              "3    Applied Statistics  (Not open to CS, DS, ES ma...  7,8,9  \n",
              "4      Social, Legal & Ethical Environment of Business   3, 6  \n",
              "..                                                 ...    ...  \n",
              "240                        Basics of Healthy Lifestyle      7  \n",
              "241  Understanding Substance Use and Addictions (Pr...    4,6  \n",
              "242                                      Global Health    4,7  \n",
              "243         Causes, Treatment and Prevention of Cancer    4,7  \n",
              "244                         Human Nutrition and Health    6,7  \n",
              "\n",
              "[245 rows x 4 columns]"
            ]
          },
          "execution_count": 62,
          "metadata": {},
          "output_type": "execute_result"
        }
      ],
      "source": [
        "import pandas as pd\n",
        "courses_df = pd.DataFrame(courses_data, columns=col_names)\n",
        "courses_df"
      ]
    },
    {
      "cell_type": "code",
      "execution_count": 63,
      "metadata": {
        "colab": {
          "base_uri": "https://localhost:8080/",
          "height": 424
        },
        "id": "3CW8MxYiH5Kg",
        "outputId": "78ff7d37-73a6-4c61-aaf3-8d99a3221c5b"
      },
      "outputs": [
        {
          "data": {
            "text/html": [
              "<div>\n",
              "<style scoped>\n",
              "    .dataframe tbody tr th:only-of-type {\n",
              "        vertical-align: middle;\n",
              "    }\n",
              "\n",
              "    .dataframe tbody tr th {\n",
              "        vertical-align: top;\n",
              "    }\n",
              "\n",
              "    .dataframe thead th {\n",
              "        text-align: right;\n",
              "    }\n",
              "</style>\n",
              "<table border=\"1\" class=\"dataframe\">\n",
              "  <thead>\n",
              "    <tr style=\"text-align: right;\">\n",
              "      <th></th>\n",
              "      <th>Subject Code</th>\n",
              "      <th>Course Number</th>\n",
              "      <th>Course Title</th>\n",
              "      <th>Themes</th>\n",
              "    </tr>\n",
              "  </thead>\n",
              "  <tbody>\n",
              "    <tr>\n",
              "      <th>0</th>\n",
              "      <td>BUS</td>\n",
              "      <td>101</td>\n",
              "      <td>Introduction to Business</td>\n",
              "      <td>4,5</td>\n",
              "    </tr>\n",
              "    <tr>\n",
              "      <th>1</th>\n",
              "      <td>BUS</td>\n",
              "      <td>105</td>\n",
              "      <td>Foundations of Management</td>\n",
              "      <td>5</td>\n",
              "    </tr>\n",
              "    <tr>\n",
              "      <th>2</th>\n",
              "      <td>BUS</td>\n",
              "      <td>109</td>\n",
              "      <td>Single-Variable Calculus for Business and Econ...</td>\n",
              "      <td>7,8,9</td>\n",
              "    </tr>\n",
              "    <tr>\n",
              "      <th>3</th>\n",
              "      <td>BUS</td>\n",
              "      <td>110</td>\n",
              "      <td>Applied Statistics  (Not open to CS, DS, ES ma...</td>\n",
              "      <td>7,8,9</td>\n",
              "    </tr>\n",
              "    <tr>\n",
              "      <th>4</th>\n",
              "      <td>BUS</td>\n",
              "      <td>112</td>\n",
              "      <td>Social, Legal &amp; Ethical Environment of Business</td>\n",
              "      <td>3,6</td>\n",
              "    </tr>\n",
              "    <tr>\n",
              "      <th>...</th>\n",
              "      <td>...</td>\n",
              "      <td>...</td>\n",
              "      <td>...</td>\n",
              "      <td>...</td>\n",
              "    </tr>\n",
              "    <tr>\n",
              "      <th>240</th>\n",
              "      <td>PH</td>\n",
              "      <td>101</td>\n",
              "      <td>Basics of Healthy Lifestyle</td>\n",
              "      <td>7</td>\n",
              "    </tr>\n",
              "    <tr>\n",
              "      <th>241</th>\n",
              "      <td>PH</td>\n",
              "      <td>102</td>\n",
              "      <td>Understanding Substance Use and Addictions (Pr...</td>\n",
              "      <td>4,6</td>\n",
              "    </tr>\n",
              "    <tr>\n",
              "      <th>242</th>\n",
              "      <td>PH</td>\n",
              "      <td>201</td>\n",
              "      <td>Global Health</td>\n",
              "      <td>4,7</td>\n",
              "    </tr>\n",
              "    <tr>\n",
              "      <th>243</th>\n",
              "      <td>PH</td>\n",
              "      <td>202</td>\n",
              "      <td>Causes, Treatment and Prevention of Cancer</td>\n",
              "      <td>4,7</td>\n",
              "    </tr>\n",
              "    <tr>\n",
              "      <th>244</th>\n",
              "      <td>PH</td>\n",
              "      <td>203</td>\n",
              "      <td>Human Nutrition and Health</td>\n",
              "      <td>6,7</td>\n",
              "    </tr>\n",
              "  </tbody>\n",
              "</table>\n",
              "<p>245 rows × 4 columns</p>\n",
              "</div>"
            ],
            "text/plain": [
              "    Subject Code Course Number  \\\n",
              "0            BUS           101   \n",
              "1            BUS           105   \n",
              "2            BUS           109   \n",
              "3            BUS           110   \n",
              "4            BUS           112   \n",
              "..           ...           ...   \n",
              "240           PH           101   \n",
              "241           PH           102   \n",
              "242           PH           201   \n",
              "243           PH           202   \n",
              "244           PH           203   \n",
              "\n",
              "                                          Course Title Themes  \n",
              "0                             Introduction to Business    4,5  \n",
              "1                            Foundations of Management      5  \n",
              "2    Single-Variable Calculus for Business and Econ...  7,8,9  \n",
              "3    Applied Statistics  (Not open to CS, DS, ES ma...  7,8,9  \n",
              "4      Social, Legal & Ethical Environment of Business    3,6  \n",
              "..                                                 ...    ...  \n",
              "240                        Basics of Healthy Lifestyle      7  \n",
              "241  Understanding Substance Use and Addictions (Pr...    4,6  \n",
              "242                                      Global Health    4,7  \n",
              "243         Causes, Treatment and Prevention of Cancer    4,7  \n",
              "244                         Human Nutrition and Health    6,7  \n",
              "\n",
              "[245 rows x 4 columns]"
            ]
          },
          "execution_count": 63,
          "metadata": {},
          "output_type": "execute_result"
        }
      ],
      "source": [
        "courses_df['Themes'] = courses_df['Themes'].str.replace(\" \", \"\")\n",
        "courses_df"
      ]
    },
    {
      "cell_type": "code",
      "execution_count": 64,
      "metadata": {
        "colab": {
          "base_uri": "https://localhost:8080/"
        },
        "id": "nIrb8Y18INNy",
        "outputId": "182925a6-6fd3-46b7-e5cb-42800824cbf9"
      },
      "outputs": [
        {
          "data": {
            "text/plain": [
              "array(['BUS', 'CBE', 'CHSS', 'CHSS\\xa0', 'CS', 'CSE', 'EC', 'EC\\xa0',\n",
              "       'ECON', 'ENGS', 'ESS', 'ENV', 'EPIC', 'FND', 'LAW', 'PG', 'PH'],\n",
              "      dtype=object)"
            ]
          },
          "execution_count": 64,
          "metadata": {},
          "output_type": "execute_result"
        }
      ],
      "source": [
        "courses_df['Subject Code'].unique()"
      ]
    },
    {
      "cell_type": "code",
      "execution_count": 65,
      "metadata": {
        "colab": {
          "base_uri": "https://localhost:8080/"
        },
        "id": "1zXxJEV1IjUa",
        "outputId": "8c56a17b-88bb-4576-ea21-8e8558ae3b0a"
      },
      "outputs": [
        {
          "data": {
            "text/plain": [
              "array(['BUS', 'CBE', 'CHSS', 'CS', 'CSE', 'EC', 'ECON', 'ENGS', 'ESS',\n",
              "       'ENV', 'EPIC', 'FND', 'LAW', 'PG', 'PH'], dtype=object)"
            ]
          },
          "execution_count": 65,
          "metadata": {},
          "output_type": "execute_result"
        }
      ],
      "source": [
        "courses_df['Subject Code'] = courses_df['Subject Code'].str.strip()\n",
        "courses_df['Subject Code'].unique()"
      ]
    },
    {
      "cell_type": "code",
      "execution_count": 66,
      "metadata": {
        "colab": {
          "base_uri": "https://localhost:8080/",
          "height": 586
        },
        "id": "iatsmu1cI0VG",
        "outputId": "35b59296-d70d-4be3-9cd7-9d5765971cf8"
      },
      "outputs": [
        {
          "data": {
            "text/plain": [
              "Subject Code\n",
              "CHSS    102\n",
              "EC       35\n",
              "CSE      32\n",
              "ENV      15\n",
              "PG       13\n",
              "BUS       8\n",
              "LAW       7\n",
              "ESS       7\n",
              "FND       6\n",
              "CS        6\n",
              "ECON      5\n",
              "PH        5\n",
              "ENGS      2\n",
              "CBE       1\n",
              "EPIC      1\n",
              "Name: count, dtype: int64"
            ]
          },
          "execution_count": 66,
          "metadata": {},
          "output_type": "execute_result"
        }
      ],
      "source": [
        "courses_df['Subject Code'].value_counts()"
      ]
    },
    {
      "cell_type": "code",
      "execution_count": 67,
      "metadata": {
        "colab": {
          "base_uri": "https://localhost:8080/",
          "height": 424
        },
        "id": "cC5jNiJ6JdUX",
        "outputId": "976060be-2be2-4d3e-985e-1e6034d2bef0"
      },
      "outputs": [
        {
          "data": {
            "text/html": [
              "<div>\n",
              "<style scoped>\n",
              "    .dataframe tbody tr th:only-of-type {\n",
              "        vertical-align: middle;\n",
              "    }\n",
              "\n",
              "    .dataframe tbody tr th {\n",
              "        vertical-align: top;\n",
              "    }\n",
              "\n",
              "    .dataframe thead th {\n",
              "        text-align: right;\n",
              "    }\n",
              "</style>\n",
              "<table border=\"1\" class=\"dataframe\">\n",
              "  <thead>\n",
              "    <tr style=\"text-align: right;\">\n",
              "      <th></th>\n",
              "      <th>Subject Code</th>\n",
              "      <th>Course Number</th>\n",
              "      <th>Themes</th>\n",
              "    </tr>\n",
              "  </thead>\n",
              "  <tbody>\n",
              "    <tr>\n",
              "      <th>0</th>\n",
              "      <td>BUS</td>\n",
              "      <td>101</td>\n",
              "      <td>4,5</td>\n",
              "    </tr>\n",
              "    <tr>\n",
              "      <th>1</th>\n",
              "      <td>BUS</td>\n",
              "      <td>105</td>\n",
              "      <td>5</td>\n",
              "    </tr>\n",
              "    <tr>\n",
              "      <th>2</th>\n",
              "      <td>BUS</td>\n",
              "      <td>109</td>\n",
              "      <td>7,8,9</td>\n",
              "    </tr>\n",
              "    <tr>\n",
              "      <th>3</th>\n",
              "      <td>BUS</td>\n",
              "      <td>110</td>\n",
              "      <td>7,8,9</td>\n",
              "    </tr>\n",
              "    <tr>\n",
              "      <th>4</th>\n",
              "      <td>BUS</td>\n",
              "      <td>112</td>\n",
              "      <td>3,6</td>\n",
              "    </tr>\n",
              "    <tr>\n",
              "      <th>...</th>\n",
              "      <td>...</td>\n",
              "      <td>...</td>\n",
              "      <td>...</td>\n",
              "    </tr>\n",
              "    <tr>\n",
              "      <th>240</th>\n",
              "      <td>PH</td>\n",
              "      <td>101</td>\n",
              "      <td>7</td>\n",
              "    </tr>\n",
              "    <tr>\n",
              "      <th>241</th>\n",
              "      <td>PH</td>\n",
              "      <td>102</td>\n",
              "      <td>4,6</td>\n",
              "    </tr>\n",
              "    <tr>\n",
              "      <th>242</th>\n",
              "      <td>PH</td>\n",
              "      <td>201</td>\n",
              "      <td>4,7</td>\n",
              "    </tr>\n",
              "    <tr>\n",
              "      <th>243</th>\n",
              "      <td>PH</td>\n",
              "      <td>202</td>\n",
              "      <td>4,7</td>\n",
              "    </tr>\n",
              "    <tr>\n",
              "      <th>244</th>\n",
              "      <td>PH</td>\n",
              "      <td>203</td>\n",
              "      <td>6,7</td>\n",
              "    </tr>\n",
              "  </tbody>\n",
              "</table>\n",
              "<p>245 rows × 3 columns</p>\n",
              "</div>"
            ],
            "text/plain": [
              "    Subject Code Course Number Themes\n",
              "0            BUS           101    4,5\n",
              "1            BUS           105      5\n",
              "2            BUS           109  7,8,9\n",
              "3            BUS           110  7,8,9\n",
              "4            BUS           112    3,6\n",
              "..           ...           ...    ...\n",
              "240           PH           101      7\n",
              "241           PH           102    4,6\n",
              "242           PH           201    4,7\n",
              "243           PH           202    4,7\n",
              "244           PH           203    6,7\n",
              "\n",
              "[245 rows x 3 columns]"
            ]
          },
          "execution_count": 67,
          "metadata": {},
          "output_type": "execute_result"
        }
      ],
      "source": [
        "del courses_df[\"Course Title\"]\n",
        "courses_df"
      ]
    },
    {
      "cell_type": "code",
      "execution_count": null,
      "metadata": {
        "id": "1jYYHvW6asZq"
      },
      "outputs": [],
      "source": [
        "courses_df.to_csv(\"./.localdata/aua__geneds-cleaned-full.csv\", index=False)"
      ]
    }
  ],
  "metadata": {
    "colab": {
      "provenance": []
    },
    "kernelspec": {
      "display_name": "corsa",
      "language": "python",
      "name": "python3"
    },
    "language_info": {
      "codemirror_mode": {
        "name": "ipython",
        "version": 3
      },
      "file_extension": ".py",
      "mimetype": "text/x-python",
      "name": "python",
      "nbconvert_exporter": "python",
      "pygments_lexer": "ipython3",
      "version": "3.11.2"
    }
  },
  "nbformat": 4,
  "nbformat_minor": 0
}
